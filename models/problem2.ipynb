{
 "cells": [
  {
   "cell_type": "markdown",
   "metadata": {},
   "source": [
    "# BAOAB method in Julia"
   ]
  },
  {
   "cell_type": "code",
   "execution_count": 34,
   "metadata": {},
   "outputs": [
    {
     "data": {
      "text/plain": [
       "BAOAB_step (generic function with 1 method)"
      ]
     },
     "execution_count": 34,
     "metadata": {},
     "output_type": "execute_result"
    }
   ],
   "source": [
    "using LaTeXStrings, Random, Plots, Serialization, StatsBase, Base.Threads, LinearAlgebra\n",
    "\n",
    "function A_step(qp, h)\n",
    "    q, p = qp\n",
    "    q = q + h * p\n",
    "    return [q, p]\n",
    "end\n",
    "\n",
    "function B_step(qp, h, force)\n",
    "    q, p = qp\n",
    "    F = force\n",
    "    p = p + h * F\n",
    "    return [q, p]\n",
    "end\n",
    "\n",
    "function O_step(qp, h, A, beta)\n",
    "    q, p = qp\n",
    "    alpha = exp(-h * A)\n",
    "    R = randn(length(q))\n",
    "    p = alpha * p + sqrt(1 / beta) * sqrt(1 - exp(-2 * h * A)) * R\n",
    "    return [q, p]\n",
    "end\n",
    "\n",
    "function BAOAB_step(q, p, h, A, beta, force)\n",
    "    qp = copy([q, p])\n",
    "    qp = B_step(qp, h/2, force)\n",
    "    qp = A_step(qp, h/2)\n",
    "    qp = O_step(qp, h, A, beta)\n",
    "    qp = A_step(qp, h/2)\n",
    "    qp = B_step(qp, h/2, force)\n",
    "    q, p = qp\n",
    "    return q, p\n",
    "end"
   ]
  },
  {
   "cell_type": "code",
   "execution_count": 62,
   "metadata": {},
   "outputs": [
    {
     "data": {
      "text/plain": [
       "predict_BLR (generic function with 1 method)"
      ]
     },
     "execution_count": 62,
     "metadata": {},
     "output_type": "execute_result"
    }
   ],
   "source": [
    "function grad_BLR(data, w, N, n)\n",
    "    # 2nd model - Large Scale Bayesian Logistic Regression\n",
    "    dim = size(data, 2) - 1\n",
    "    x = data[:, 1:dim]\n",
    "    y = data[:, end]\n",
    "\n",
    "    sum = zeros(dim)\n",
    "    for i in 1:n\n",
    "        a = exp(- y[i] * dot(w, x[i, :]))\n",
    "        sum = sum .+ ((-y[i] * a  / (1 + a)) .* x[i, :])\n",
    "    end\n",
    "\n",
    "    w += sum .* N/n\n",
    "\n",
    "    return w\n",
    "end\n",
    "\n",
    "function run_simulation(q0, p0, Nsteps, h, A, beta, Samples, step_function, grad_U, N, n)\n",
    "    dim = size(Samples, 2) - 1\n",
    "    q_traj = zeros(dim,Nsteps)\n",
    "    p_traj = zeros(dim,Nsteps)\n",
    "    t_traj = zeros(Nsteps)\n",
    "\n",
    "    q = copy(q0)\n",
    "    p = copy(p0)\n",
    "    t = 0.0\n",
    "\n",
    "    for i in 1:Nsteps\n",
    "        idx = randperm(N)[1:n]\n",
    "        data = Samples[idx,:]\n",
    "        force = - grad_U(data, q, N, n)\n",
    "        q, p = step_function(q, p, h, A, beta, force)\n",
    "        t += h\n",
    "        \n",
    "        q_traj[:,i] = q\n",
    "        p_traj[:,i] = p\n",
    "        t_traj[i] = t\n",
    "    end\n",
    "\n",
    "    return q_traj, p_traj, t_traj\n",
    "end\n",
    "\n",
    "function sigmoid(z)\n",
    "    return 1.0 ./ (1.0 .+ exp.(-z))\n",
    "end\n",
    "\n",
    "function predict_BLR(features, weights)\n",
    "    # Calculate the linear combination of features and weights\n",
    "    z = first(features' * weights)\n",
    "\n",
    "    # Apply the logistic function to get the probability\n",
    "    probabilities = sigmoid(z)\n",
    "\n",
    "    # Apply threshold (0.5) for binary classification\n",
    "    predictions = ifelse.(probabilities .>= 0.5, 1, -1)\n",
    "    \n",
    "    return predictions\n",
    "end\n"
   ]
  },
  {
   "cell_type": "code",
   "execution_count": 29,
   "metadata": {},
   "outputs": [
    {
     "data": {
      "text/plain": [
       "save_variable (generic function with 1 method)"
      ]
     },
     "execution_count": 29,
     "metadata": {},
     "output_type": "execute_result"
    }
   ],
   "source": [
    "function save_variable(variable, file_name)\n",
    "    name = string(file_name, \".jls\")\n",
    "    open(name, \"w\") do file\n",
    "        serialize(file, variable)\n",
    "    end\n",
    "end"
   ]
  },
  {
   "cell_type": "code",
   "execution_count": 31,
   "metadata": {},
   "outputs": [],
   "source": [
    "using MLDatasets\n",
    "\n",
    "train_x, train_y = MNIST(split=:train)[:]\n",
    "ind = findall(x -> x == 7 || x == 9, train_y)\n",
    "y_train = train_y[ind]\n",
    "y_train = ifelse.(y_train .== 7, 1, -1)\n",
    "x_train = transpose(reshape(train_x, size(train_x, 1)*size(train_x, 2), size(train_x, 3))[:, ind])\n",
    "train = hcat(x_train, y_train)\n",
    "\n",
    "test_x, test_y = MNIST(split=:test)[:]\n",
    "ind = findall(x -> x == 7 || x == 9, test_y)\n",
    "y_test = test_y[ind]\n",
    "y_test = ifelse.(y_test .== 7, 1, -1)\n",
    "x_test = transpose(reshape(test_x, size(test_x, 1)*size(test_x, 2), size(test_x, 3))[:, ind]);"
   ]
  },
  {
   "cell_type": "code",
   "execution_count": 35,
   "metadata": {},
   "outputs": [],
   "source": [
    "# Initialize one walker\n",
    "dim = size(train, 2) - 1\n",
    "q0 = randn(dim)   # just for initialization\n",
    "p0 = randn(dim)\n",
    "\n",
    "Nsteps = 10000\n",
    "h = 0.001\n",
    "A = 1.0\n",
    "beta = 1.0\n",
    "N = size(train, 1)\n",
    "n = 100\n",
    "\n",
    "# Run one long trajectory of Nsteps, using the BAOAB scheme\n",
    "q_traj, p_traj, t_traj = run_simulation(q0, p0, Nsteps, h, A, beta, train, BAOAB_step, grad_BLR, N, n);"
   ]
  },
  {
   "cell_type": "code",
   "execution_count": 69,
   "metadata": {},
   "outputs": [
    {
     "data": {
      "text/plain": [
       "0.9646539027982327"
      ]
     },
     "execution_count": 69,
     "metadata": {},
     "output_type": "execute_result"
    }
   ],
   "source": [
    "w_mean = mean(q_traj, dims=2)\n",
    "predicted_labels = zeros(size(x_test, 1))\n",
    "for i in 1:size(x_test, 1)\n",
    "    predicted_labels[i] = predict_BLR(x_test[i,:], w_mean)\n",
    "end\n",
    "accuracy = sum(predicted_labels .== y_test) / length(y_test)"
   ]
  }
 ],
 "metadata": {
  "kernelspec": {
   "display_name": "Julia 6 threads 1.10.0",
   "language": "julia",
   "name": "julia-6-threads-1.10"
  },
  "language_info": {
   "file_extension": ".jl",
   "mimetype": "application/julia",
   "name": "julia",
   "version": "1.10.0"
  }
 },
 "nbformat": 4,
 "nbformat_minor": 2
}
